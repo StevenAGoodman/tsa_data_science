{
 "cells": [
  {
   "cell_type": "code",
   "execution_count": null,
   "id": "66820613-5aac-4f20-995c-52ae80d37389",
   "metadata": {},
   "outputs": [],
   "source": [
    "import pandas as pd\n"
   ]
  },
  {
   "cell_type": "markdown",
   "id": "b943d6d4-ffae-4a57-970c-f2f43308ef74",
   "metadata": {},
   "source": [
    "this is my *notes*"
   ]
  },
  {
   "cell_type": "code",
   "execution_count": null,
   "id": "1f3af777-2501-42d0-954e-e778503bb400",
   "metadata": {},
   "outputs": [],
   "source": []
  },
  {
   "cell_type": "code",
   "execution_count": null,
   "id": "79e205e9-6899-4ccb-a460-5f4d80dc9067",
   "metadata": {},
   "outputs": [],
   "source": []
  },
  {
   "cell_type": "code",
   "execution_count": null,
   "id": "5ace0cb2-71f0-4ef1-897d-953182f3adad",
   "metadata": {},
   "outputs": [],
   "source": []
  },
  {
   "cell_type": "code",
   "execution_count": null,
   "id": "db7ee97c-7c4c-4f84-b9cb-3bdbd9bcb892",
   "metadata": {},
   "outputs": [],
   "source": []
  },
  {
   "cell_type": "code",
   "execution_count": null,
   "id": "249753cf-341c-43f6-8577-4abacf8606f9",
   "metadata": {},
   "outputs": [],
   "source": []
  },
  {
   "cell_type": "code",
   "execution_count": null,
   "id": "37ea2260-71a8-4645-bbb9-92dc8eb5219f",
   "metadata": {},
   "outputs": [],
   "source": []
  }
 ],
 "metadata": {
  "kernelspec": {
   "display_name": "Python 3 (ipykernel)",
   "language": "python",
   "name": "python3"
  },
  "language_info": {
   "codemirror_mode": {
    "name": "ipython",
    "version": 3
   },
   "file_extension": ".py",
   "mimetype": "text/x-python",
   "name": "python",
   "nbconvert_exporter": "python",
   "pygments_lexer": "ipython3",
   "version": "3.12.6"
  }
 },
 "nbformat": 4,
 "nbformat_minor": 5
}
